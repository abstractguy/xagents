{
 "nbformat": 4,
 "nbformat_minor": 0,
 "metadata": {
  "colab": {
   "name": "walkthrough.ipynb",
   "provenance": []
  },
  "kernelspec": {
   "name": "python3",
   "display_name": "Python 3"
  },
  "language_info": {
   "name": "python"
  },
  "accelerator": "GPU"
 },
 "cells": [
  {
   "cell_type": "code",
   "metadata": {
    "id": "x301PwFOORep"
   },
   "source": [
    "!nvidia-smi"
   ],
   "execution_count": null,
   "outputs": []
  },
  {
   "cell_type": "markdown",
   "metadata": {
    "id": "My9KFw22edPT"
   },
   "source": [
    "### Install the necessary stuff"
   ]
  },
  {
   "cell_type": "code",
   "metadata": {
    "id": "_J-KYkCIscky"
   },
   "source": [
    "!sudo apt-get install xvfb"
   ],
   "execution_count": null,
   "outputs": []
  },
  {
   "cell_type": "code",
   "metadata": {
    "id": "fP1PEGZ3ODTN"
   },
   "source": [
    "pip install xagents"
   ],
   "execution_count": null,
   "outputs": []
  },
  {
   "cell_type": "code",
   "metadata": {
    "id": "6gRHWmpuhJtf"
   },
   "source": [
    "pip install matplotlib==3.1.3"
   ],
   "execution_count": null,
   "outputs": []
  },
  {
   "cell_type": "markdown",
   "metadata": {
    "id": "hq_4kHHJt_06"
   },
   "source": [
    "### Training (trial 1)\n",
    "\n",
    "We will train A2C and PPO agents on the CartPole-v1 environment. Since no hyperparameter optimization was conducted, both agents will yield suboptimal results."
   ]
  },
  {
   "cell_type": "markdown",
   "metadata": {
    "id": "YlnOPj1-u0bK"
   },
   "source": [
    "### PPO (training)"
   ]
  },
  {
   "cell_type": "code",
   "metadata": {
    "id": "vsoGONS6TLff"
   },
   "source": [
    "!xagents train ppo --env CartPole-v1 --max-steps 300000 --n-envs 16 --seed 55 --checkpoints ppo-cartpole.tf --history-checkpoint ppo-cartpole.parquet"
   ],
   "execution_count": null,
   "outputs": []
  },
  {
   "cell_type": "markdown",
   "metadata": {
    "id": "Do1qGRYgvKl1"
   },
   "source": [
    "### A2C (training)"
   ]
  },
  {
   "cell_type": "code",
   "metadata": {
    "id": "lFK8mIb8T_cX"
   },
   "source": [
    "!xagents train a2c --env CartPole-v1 --max-steps 300000 --n-envs 16 --checkpoints a2c-cartpole.tf \\\n",
    "--seed 55 --history-checkpoint a2c-cartpole.parquet --n-steps 128"
   ],
   "execution_count": null,
   "outputs": []
  },
  {
   "cell_type": "markdown",
   "metadata": {
    "id": "Sbu6BRpSvPIJ"
   },
   "source": [
    "### Tuning"
   ]
  },
  {
   "cell_type": "markdown",
   "metadata": {
    "id": "d8Ei6PwdvTI9"
   },
   "source": [
    "In this section, we are going to tune hyperparameters for A2C and PPO."
   ]
  },
  {
   "cell_type": "markdown",
   "metadata": {
    "id": "aRP4N3_Lvglw"
   },
   "source": [
    "**Notes:**\n",
    "* The `xagents <command> <agent>` syntax displays the available options for the given command and agent. We will use this syntax for displaying tuning options for both agents.\n",
    "* There are multiple hyperparameter types, which you can find under `hp_type` column in the menu displayed below. We will be using the 2 below ...\n",
    "1. `log_uniform` hp_type, accepts a minimum and maximum bound. Therefore, you will need to pass either 1 value or 2 values in the following fashion:\n",
    "\n",
    "  `xagents tune <agent> --<log-uniform-hp> <min-val> <max-val>`\n",
    "\n",
    "2. `categorical` hp_type, accepts n number of values.\n",
    "\n",
    "`xagents tune <agent> --<categorical-hp> <val1> <val2> <val3> ...`"
   ]
  },
  {
   "cell_type": "code",
   "metadata": {
    "id": "yU56LWD9WRD0"
   },
   "source": [
    "!xagents tune a2c"
   ],
   "execution_count": null,
   "outputs": []
  },
  {
   "cell_type": "markdown",
   "metadata": {
    "id": "YXQAxQEKxgkk"
   },
   "source": [
    "### A2C (tuning)"
   ]
  },
  {
   "cell_type": "code",
   "metadata": {
    "id": "osa4YuNQYZJe"
   },
   "source": [
    "!xagents tune a2c --study a2c-cartpole --env CartPole-v1 --trial-steps 200000 --warmup-trials 4 \\\n",
    "--n-trials 20 --n-jobs 2 --storage sqlite:///a2c-cartpole.sqlite --entropy-coef 1e-5 0.5 --gamma 0.9 0.99 \\\n",
    "--grad-norm 0.1 10 --lr 1e-5 1e-2 --n-envs 16 --n-steps 8 16 32 64 128 256 512 1024 \\\n",
    "--opt-epsilon 1e-7 1e-3"
   ],
   "execution_count": null,
   "outputs": []
  },
  {
   "cell_type": "markdown",
   "metadata": {
    "id": "qaNtjsVzxzZ6"
   },
   "source": [
    "We can use [optuna.visualization.matplotlib](https://www.google.com/url?sa=t&rct=j&q=&esrc=s&source=web&cd=&cad=rja&uact=8&ved=2ahUKEwi5p9239uDyAhXb_rsIHZ9EDPYQFnoECAMQAQ&url=https%3A%2F%2Foptuna.readthedocs.io%2Fen%2Flatest%2Freference%2Fvisualization%2Fmatplotlib.html&usg=AOvVaw20M4GHVSpQJQAkegkfJttS) API to visualize hyperparameter importances. \n",
    "\n"
   ]
  },
  {
   "cell_type": "code",
   "metadata": {
    "id": "CaeZSJBuaw4X"
   },
   "source": [
    "import optuna\n",
    "import matplotlib.pyplot as plt\n",
    "\n",
    "a2c_study = optuna.load_study('a2c-cartpole', storage='sqlite:///a2c-cartpole.sqlite')\n",
    "optuna.visualization.matplotlib.plot_param_importances(a2c_study)\n",
    "plt.show()"
   ],
   "execution_count": null,
   "outputs": []
  },
  {
   "cell_type": "code",
   "metadata": {
    "id": "iH8saTbBiKeq"
   },
   "source": [
    "!xagents tune ppo"
   ],
   "execution_count": null,
   "outputs": []
  },
  {
   "cell_type": "markdown",
   "metadata": {
    "id": "w6u-8wXEyTg1"
   },
   "source": [
    "### PPO (tuning)"
   ]
  },
  {
   "cell_type": "code",
   "metadata": {
    "id": "v7zXO2TVgvNv"
   },
   "source": [
    "!xagents tune ppo --env CartPole-v1 --study ppo-cartpole --storage sqlite:///ppo-cartpole.sqlite \\\n",
    "--trial-steps 200000 --warmup-trials 4 --n-trials 20 --advantage-epsilon 1e-8 1e-5 --clip-norm 0.01 0.5 \\\n",
    "--entropy-coef 1e-4 0.3 --gamma 0.9 0.999 --grad-norm 0.1 10 --lam 0.7 0.99 --lr 1e-5 1e-2 \\\n",
    "--n-steps 16 32 64 128 256 512 1024 --opt-epsilon 1e-7 1e-4 --n-envs 16 32 \\\n",
    "--opt-epsilon 1e-7 1e-3 --n-jobs 2"
   ],
   "execution_count": null,
   "outputs": []
  },
  {
   "cell_type": "code",
   "metadata": {
    "id": "XRsE7Vf2ivoq"
   },
   "source": [
    "ppo_study = optuna.load_study('ppo-cartpole', 'sqlite:///ppo-cartpole.sqlite')\n",
    "optuna.visualization.matplotlib.plot_param_importances(ppo_study)\n",
    "plt.show()"
   ],
   "execution_count": null,
   "outputs": []
  },
  {
   "cell_type": "markdown",
   "metadata": {
    "id": "eUAKQZpnyphO"
   },
   "source": [
    "Display A2C best parameters, and use them to re-train."
   ]
  },
  {
   "cell_type": "code",
   "metadata": {
    "id": "o6wyCW5nmL2V"
   },
   "source": [
    "a2c_study.best_params"
   ],
   "execution_count": null,
   "outputs": []
  },
  {
   "cell_type": "markdown",
   "metadata": {
    "id": "mclUGeVhywr1"
   },
   "source": [
    "### A2C (training using tuned hyperparameters)"
   ]
  },
  {
   "cell_type": "code",
   "metadata": {
    "id": "h7UOdQWemWrf"
   },
   "source": [
    "!xagents train a2c --env CartPole-v1 --max-steps 300000 --n-envs 16 --checkpoints a2c-cartpole-tuned.tf \\\n",
    "--seed 55 --history-checkpoint a2c-cartpole-tuned.parquet --n-steps 8 --opt-epsilon 0.0009386796496510724 \\\n",
    "--lr 0.0012985885268425004 --grad-norm 0.9964628998438626 --gamma 0.9387388102974632 \\\n",
    "--entropy-coef 0.010565924673903932"
   ],
   "execution_count": null,
   "outputs": []
  },
  {
   "cell_type": "code",
   "metadata": {
    "id": "3p9A1HKDmzKQ"
   },
   "source": [
    "ppo_study.best_params"
   ],
   "execution_count": null,
   "outputs": []
  },
  {
   "cell_type": "markdown",
   "metadata": {
    "id": "sLvU51jsy_ll"
   },
   "source": [
    "### PPO (training using tuned hyperparameters) "
   ]
  },
  {
   "cell_type": "code",
   "metadata": {
    "id": "11y3SCSHn0br"
   },
   "source": [
    "!xagents train ppo --env CartPole-v1 --max-steps 300000 --n-envs 32 --seed 55 \\\n",
    "--checkpoints ppo-cartpole-tuned.tf --history-checkpoint ppo-cartpole-tuned.parquet \\\n",
    "--advantage-epsilon 1.3475350681876062e-08 --clip-norm 0.0503693625084303 \\\n",
    "--entropy-coef 0.06363366133416302 --gamma 0.93959608546301 --grad-norm 6.2465542151066495 \\\n",
    "--lam 0.9818834679479003 --lr 0.001549335940636045 --n-steps 16 --opt-epsilon 8.539506175014364e-07"
   ],
   "execution_count": null,
   "outputs": []
  },
  {
   "cell_type": "markdown",
   "metadata": {
    "id": "ktTsBC0PzPWd"
   },
   "source": [
    "### Benchmarks"
   ]
  },
  {
   "cell_type": "code",
   "metadata": {
    "id": "ls4zeKMgodpG"
   },
   "source": [
    "from xagents.utils.common import plot_history\n",
    "\n",
    "plot_history(\n",
    "    ['a2c-cartpole.parquet', 'a2c-cartpole-tuned.parquet', 'ppo-cartpole.parquet', 'ppo-cartpole-tuned.parquet'],\n",
    "    ['A2C', 'A2C(tuned)', 'PPO', 'PPO(tuned)'],\n",
    "    'CartPole-v1',\n",
    "    history_interval=50\n",
    ")\n",
    "plt.show()\n"
   ],
   "execution_count": null,
   "outputs": []
  },
  {
   "cell_type": "markdown",
   "metadata": {
    "id": "BqqNAV21zVUY"
   },
   "source": [
    "### Play and save episode video for A2C and PPO"
   ]
  },
  {
   "cell_type": "code",
   "metadata": {
    "id": "zDI3M0-cr8Gw"
   },
   "source": [
    "!xvfb-run xagents play a2c --env CartPole-v1 --weights a2c-cartpole-tuned.tf --video-dir a2c-vid"
   ],
   "execution_count": null,
   "outputs": []
  },
  {
   "cell_type": "code",
   "metadata": {
    "id": "eJ7aTEKY7qid"
   },
   "source": [
    "from IPython.display import HTML\n",
    "from base64 import b64encode\n",
    "import glob\n",
    "\n",
    "\n",
    "def get_vid_url(vid_folder):\n",
    "  vid = open(glob.glob(f'{vid_folder}/*.mp4')[0],'rb').read()\n",
    "  return \"data:video/mp4;base64,\" + b64encode(vid).decode()"
   ],
   "execution_count": null,
   "outputs": []
  },
  {
   "cell_type": "code",
   "metadata": {
    "id": "9AucQ3l06RMC"
   },
   "source": [
    "ppo_url = get_vid_url('ppo-vid')\n",
    "HTML(\"\"\"\n",
    "<video width=400 controls>\n",
    "      <source src=\"%s\" type=\"video/mp4\">\n",
    "</video>\n",
    "\"\"\" % ppo_url)"
   ],
   "execution_count": null,
   "outputs": []
  },
  {
   "cell_type": "code",
   "metadata": {
    "id": "j5GQLTmVsQHY"
   },
   "source": [
    "!xvfb-run xagents play ppo --env CartPole-v1 --weights ppo-cartpole-tuned.tf --video-dir ppo-vid"
   ],
   "execution_count": null,
   "outputs": []
  },
  {
   "cell_type": "code",
   "metadata": {
    "id": "oc7Mm5a-8Y_W"
   },
   "source": [
    "a2c_url = get_vid_url('a2c-vid')\n",
    "HTML(\"\"\"\n",
    "<video width=400 controls>\n",
    "      <source src=\"%s\" type=\"video/mp4\">\n",
    "</video>\n",
    "\"\"\" % a2c_url)"
   ],
   "execution_count": null,
   "outputs": []
  }
 ]
}